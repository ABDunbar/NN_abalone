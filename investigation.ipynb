{
 "cells": [
  {
   "cell_type": "code",
   "execution_count": 20,
   "metadata": {},
   "outputs": [],
   "source": [
    "import keras.wrappers.scikit_learn\n",
    "from scipy.stats import reciprocal\n",
    "from sklearn.model_selection import RandomizedSearchCV#, train_test_split\n",
    "import numpy as np\n",
    "import pandas as pd\n",
    "import matplotlib.pyplot as plt\n",
    "import seaborn as sns\n",
    "from Packages.load_data import load_csv, save_model, train_test, train_test_valid\n",
    "from Packages.nn import build_model\n",
    "from sklearn.model_selection import train_test_split"
   ]
  },
  {
   "cell_type": "code",
   "execution_count": 6,
   "metadata": {},
   "outputs": [
    {
     "name": "stdout",
     "output_type": "stream",
     "text": [
      "From original csv, added 'Age', 'AgeClass', and changed 'Sex' to category\n"
     ]
    }
   ],
   "source": [
    "file = './data/abalone_data.csv'\n",
    "column_names = ['Sex', 'Length_mm', 'Diameter_mm', 'Height_mm', 'Whole_weight_gms',\n",
    "                'Shucked_weight_gms', 'Viscera_weight_gms', 'Shell_weight_gms', 'Rings']\n",
    "\n",
    "raw = pd.read_csv(file, names=column_names)\n",
    "\n",
    "data = load_csv()\n",
    "df = data.copy()\n",
    "orig = data.copy()\n",
    "# remove 2 outliers from 'Height_mm'\n",
    "df = df[df['Height_mm'] < 0.4]"
   ]
  },
  {
   "cell_type": "code",
   "execution_count": 7,
   "metadata": {},
   "outputs": [],
   "source": [
    "continuous = ['Length_mm', 'Diameter_mm', 'Height_mm', 'Whole_weight_gms', 'Shucked_weight_gms', 'Viscera_weight_gms', 'Shell_weight_gms']\n",
    "\n",
    "for col in continuous:\n",
    "    orig[col] = orig[col] * 200"
   ]
  },
  {
   "cell_type": "code",
   "execution_count": 8,
   "metadata": {},
   "outputs": [
    {
     "data": {
      "text/plain": [
       "((4177, 9), (4177, 11), (4175, 11), (4177, 11))"
      ]
     },
     "execution_count": 8,
     "metadata": {},
     "output_type": "execute_result"
    }
   ],
   "source": [
    "raw.shape, data.shape, df.shape, orig.shape"
   ]
  },
  {
   "cell_type": "markdown",
   "metadata": {},
   "source": [
    "# Train Test Split"
   ]
  },
  {
   "cell_type": "markdown",
   "metadata": {},
   "source": [
    "## Stratified Split"
   ]
  },
  {
   "cell_type": "code",
   "execution_count": null,
   "metadata": {},
   "outputs": [],
   "source": [
    "\"\"\"\n",
    "from sklearn.model_selection import StratifiedShuffleSplit\n",
    "split = StratifiedShuffleSplit(n_splits=1, test_size=0.4, random_state=42)\n",
    "\n",
    "for train_index, test_index in split.split(df, df['AgeClass']):\n",
    "    strat_train = df.loc[train_index]\n",
    "    strat_test = df.loc[test_index]\n",
    "    \n",
    "# print(strat_test['AgeClass'].value_counts() / len(strat_test))\n",
    "print(strat_test['AgeClass'].value_counts())\n",
    "# print(strat_train['AgeClass'].value_counts() / len(strat_train))\n",
    "print(strat_train['AgeClass'].value_counts())\n",
    "# print(df['AgeClass'].value_counts() / len(df))\n",
    "\"\"\""
   ]
  },
  {
   "cell_type": "code",
   "execution_count": null,
   "metadata": {},
   "outputs": [],
   "source": [
    "\"\"\"\n",
    "X_train = strat_train.drop(['Sex', 'Rings', 'Age', 'AgeClass'], axis=1)\n",
    "y_train = strat_train['AgeClass']\n",
    "y_train = pd.get_dummies(y_train)\n",
    "X_test = strat_test.drop(['Sex', 'Rings', 'Age', 'AgeClass'], axis=1);\n",
    "y_test = strat_test['AgeClass']\n",
    "y_test = pd.get_dummies(y_test)\n",
    "\"\"\""
   ]
  },
  {
   "cell_type": "code",
   "execution_count": null,
   "metadata": {},
   "outputs": [],
   "source": [
    "# X_test, y_test"
   ]
  },
  {
   "cell_type": "code",
   "execution_count": null,
   "metadata": {},
   "outputs": [],
   "source": [
    "\"\"\"\n",
    "X = df.drop(['Sex', 'Rings', 'Age', 'AgeClass'], axis=1)\n",
    "y = df['AgeClass']\n",
    "#X = df.drop(['Rings', 'Age', 'AgeClass'], axis=1)\n",
    "#X = np.array(X)\n",
    "# if using 'categorical_crossentropy' loss, then labels in one_hot representation\n",
    "y = pd.get_dummies(y)\n",
    "X_train, X_test, y_train, y_test = train_test_split(X, y, test_size=0.4, random_state=42)  # stratify=y,  \n",
    "\"\"\""
   ]
  },
  {
   "cell_type": "markdown",
   "metadata": {},
   "source": [
    "## Use Train, Test, Valid"
   ]
  },
  {
   "cell_type": "code",
   "execution_count": 9,
   "metadata": {},
   "outputs": [],
   "source": [
    "X = df.drop(['Sex', 'Rings', 'Age', 'AgeClass'], axis=1)\n",
    "y = df['AgeClass']\n",
    "# if using 'categorical_crossentropy' loss, then labels in one_hot representation\n",
    "y = pd.get_dummies(y)\n",
    "X_train, X_test, X_valid, y_train, y_test, y_valid = train_test_valid(X, y)"
   ]
  },
  {
   "cell_type": "code",
   "execution_count": 10,
   "metadata": {},
   "outputs": [
    {
     "data": {
      "text/plain": [
       "((2004, 7),\n",
       " (2004, 4),\n",
       " (501, 7),\n",
       " (501, 4),\n",
       " (1670, 7),\n",
       " (1670, 4),\n",
       " pandas.core.frame.DataFrame,\n",
       " pandas.core.frame.DataFrame)"
      ]
     },
     "execution_count": 10,
     "metadata": {},
     "output_type": "execute_result"
    }
   ],
   "source": [
    "X_train.shape, y_train.shape, X_valid.shape, y_valid.shape, X_test.shape, y_test.shape, type(X_test), type(y_test)"
   ]
  },
  {
   "cell_type": "markdown",
   "metadata": {},
   "source": [
    "### Scaling"
   ]
  },
  {
   "cell_type": "code",
   "execution_count": null,
   "metadata": {},
   "outputs": [],
   "source": [
    "\"\"\"\n",
    "from sklearn.preprocessing import StandardScaler, MinMaxScaler\n",
    "#scaler = StandardScaler()\n",
    "scaler = MinMaxScaler()\n",
    "\n",
    "X = data.drop(['Sex', 'Rings', 'Age', 'AgeClass'], axis=1)\n",
    "X_scaled = scaler.fit_transform(X)\n",
    "y = data['AgeClass']\n",
    "#X = df.drop(['Rings', 'Age', 'AgeClass'], axis=1)\n",
    "#X = np.array(X)\n",
    "# if using 'categorical_crossentropy' loss, then labels in one_hot representation\n",
    "y = pd.get_dummies(y)\n",
    "X_train, X_test, y_train, y_test = train_test_split(X_scaled, y, test_size=0.4, random_state=42)\n",
    "\"\"\""
   ]
  },
  {
   "cell_type": "markdown",
   "metadata": {},
   "source": [
    "### PCA Analysis"
   ]
  },
  {
   "cell_type": "code",
   "execution_count": null,
   "metadata": {},
   "outputs": [],
   "source": [
    "\"\"\"\n",
    "from sklearn.decomposition import PCA\n",
    "\n",
    "X = df.drop(['Sex', 'Rings', 'Age', 'AgeClass'], axis=1)\n",
    "y = df['AgeClass']\n",
    "#X = df.drop(['Rings', 'Age', 'AgeClass'], axis=1)\n",
    "#X = np.array(X)\n",
    "# if using 'categorical_crossentropy' loss, then labels in one_hot representation\n",
    "y = pd.get_dummies(y)\n",
    "\n",
    "\n",
    "pca = PCA()\n",
    "pca.fit(X)\n",
    "print(pca.explained_variance_ratio_)\n",
    "cumsum = np.cumsum(pca.explained_variance_ratio_)\n",
    "d = np.argmax(cumsum >= 0.95) + 1\n",
    "print(d)\n",
    "X_pca = pca.transform(X)\n",
    "X_train, X_test, y_train, y_test = train_test_split(X_pca, y, test_size=0.4, random_state=42)\n",
    "\"\"\""
   ]
  },
  {
   "cell_type": "markdown",
   "metadata": {},
   "source": [
    "## Randomised Search CV "
   ]
  },
  {
   "cell_type": "code",
   "execution_count": null,
   "metadata": {},
   "outputs": [],
   "source": [
    "param_distribs = {\n",
    "    \"n_hidden\": np.arange(1,8),\n",
    "    \"n_neurons\": np.arange(8, 64, 8),\n",
    "    \"learning_rate\": reciprocal(1e-5, 1e-2),\n",
    "}"
   ]
  },
  {
   "cell_type": "code",
   "execution_count": null,
   "metadata": {},
   "outputs": [],
   "source": [
    "keras_reg = keras.wrappers.scikit_learn.KerasClassifier(build_model)\n",
    "rnd_search_cv = RandomizedSearchCV(keras_reg, param_distribs, n_iter=5, cv=2)"
   ]
  },
  {
   "cell_type": "code",
   "execution_count": null,
   "metadata": {
    "scrolled": true,
    "tags": []
   },
   "outputs": [],
   "source": [
    "rnd_search_cv.fit(X_train, y_train, epochs=10,\n",
    "                  validation_data=(X_valid, y_valid))\n",
    "\n",
    "# model = rnd_search_cv.best_estimator_.model\n",
    "print(rnd_search_cv.best_params_)\n",
    "model = build_model(**rnd_search_cv.best_params_)"
   ]
  },
  {
   "cell_type": "code",
   "execution_count": null,
   "metadata": {},
   "outputs": [],
   "source": [
    "# Fit model\n",
    "history = model.fit(X_train, y_train, validation_data=(X_test, y_test), epochs=200, verbose=0)  # class_weight=?\n",
    "\n",
    "print(rnd_search_cv.best_params_)\n",
    "print(rnd_search_cv.best_score_)"
   ]
  },
  {
   "cell_type": "markdown",
   "metadata": {},
   "source": [
    "## Set Search"
   ]
  },
  {
   "cell_type": "code",
   "execution_count": 77,
   "metadata": {},
   "outputs": [],
   "source": [
    "# Find best learning rate\n",
    "model_1_0 = build_model(n_hidden=1, n_neurons=16, learning_rate=8e-4, input_shape=None)\n",
    "model_1_1 = build_model(n_hidden=1, n_neurons=16, learning_rate=1e-3, input_shape=None)\n",
    "model_1_2 = build_model(n_hidden=1, n_neurons=16, learning_rate=2e-3, input_shape=None)\n",
    "model_1_3 = build_model(n_hidden=1, n_neurons=16, learning_rate=4e-3, input_shape=None)\n",
    "model_1_4 = build_model(n_hidden=1, n_neurons=16, learning_rate=6e-3, input_shape=None)\n",
    "model_1_5 = build_model(n_hidden=1, n_neurons=16, learning_rate=8e-3, input_shape=None)\n",
    "model_1_6 = build_model(n_hidden=1, n_neurons=16, learning_rate=1e-2, input_shape=None)\n",
    "model_1_7 = build_model(n_hidden=1, n_neurons=16, learning_rate=2e-2, input_shape=None)  # **\n",
    "model_1_8 = build_model(n_hidden=1, n_neurons=16, learning_rate=4e-2, input_shape=None)\n",
    "model_1_9 = build_model(n_hidden=1, n_neurons=16, learning_rate=6e-2, input_shape=None)\n",
    "\n",
    "# With best learning rate, find best number of hidden neurons"
   ]
  },
  {
   "cell_type": "code",
   "execution_count": 88,
   "metadata": {},
   "outputs": [],
   "source": [
    "model_2_1 = build_model(n_hidden=1, n_neurons=16, learning_rate=2e-2, input_shape=None)  # **\n",
    "model_2_2 = build_model(n_hidden=2, n_neurons=16, learning_rate=2e-2, input_shape=None)\n",
    "model_2_3 = build_model(n_hidden=3, n_neurons=16, learning_rate=2e-2, input_shape=None)\n",
    "model_2_4 = build_model(n_hidden=4, n_neurons=16, learning_rate=2e-2, input_shape=None)\n",
    "model_2_5 = build_model(n_hidden=5, n_neurons=16, learning_rate=2e-2, input_shape=None) \n",
    "model_2_6 = build_model(n_hidden=6, n_neurons=16, learning_rate=2e-2, input_shape=None)\n",
    "model_2_7 = build_model(n_hidden=7, n_neurons=16, learning_rate=2e-2, input_shape=None)\n",
    "model_2_8 = build_model(n_hidden=8, n_neurons=16, learning_rate=2e-2, input_shape=None)\n",
    "# With best lr, n_hidden, find best number of neurons"
   ]
  },
  {
   "cell_type": "code",
   "execution_count": 108,
   "metadata": {},
   "outputs": [],
   "source": [
    "\"\"\"\n",
    "model_3_1 = build_model(n_hidden=1, n_neurons=8, learning_rate=2e-2, input_shape=None)\n",
    "model_3_2 = build_model(n_hidden=1, n_neurons=16, learning_rate=2e-2, input_shape=None)\n",
    "model_3_3 = build_model(n_hidden=1, n_neurons=24, learning_rate=2e-2, input_shape=None)\n",
    "model_3_4 = build_model(n_hidden=1, n_neurons=32, learning_rate=2e-2, input_shape=None)\n",
    "model_3_5 = build_model(n_hidden=1, n_neurons=40, learning_rate=2e-2, input_shape=None)\n",
    "model_3_6 = build_model(n_hidden=1, n_neurons=48, learning_rate=2e-2, input_shape=None)\n",
    "model_3_7 = build_model(n_hidden=1, n_neurons=56, learning_rate=2e-2, input_shape=None)\n",
    "model_3_8 = build_model(n_hidden=1, n_neurons=60, learning_rate=2e-2, input_shape=None)\n",
    "\"\"\""
   ]
  },
  {
   "cell_type": "code",
   "execution_count": 152,
   "metadata": {},
   "outputs": [],
   "source": [
    "model_3_1 = build_model(n_hidden=2, n_neurons=8, learning_rate=2e-2, input_shape=None)\n",
    "model_3_2 = build_model(n_hidden=2, n_neurons=16, learning_rate=2e-2, input_shape=None)\n",
    "model_3_3 = build_model(n_hidden=2, n_neurons=24, learning_rate=2e-2, input_shape=None)\n",
    "model_3_4 = build_model(n_hidden=2, n_neurons=32, learning_rate=2e-2, input_shape=None)\n",
    "model_3_5 = build_model(n_hidden=2, n_neurons=40, learning_rate=2e-2, input_shape=None)  # **\n",
    "model_3_6 = build_model(n_hidden=2, n_neurons=48, learning_rate=2e-2, input_shape=None)\n",
    "model_3_7 = build_model(n_hidden=2, n_neurons=56, learning_rate=2e-2, input_shape=None)\n",
    "model_3_8 = build_model(n_hidden=2, n_neurons=60, learning_rate=2e-2, input_shape=None)"
   ]
  },
  {
   "cell_type": "code",
   "execution_count": 78,
   "metadata": {},
   "outputs": [],
   "source": [
    "models = [model_1_0, model_1_1, model_1_2, model_1_3, model_1_4,\n",
    "          model_1_5, model_1_6, model_1_7, model_1_8, model_1_9]\n",
    "\n",
    "model_names = [\"model_1_0\", \"model_1_1\", \"model_1_2\", \"model_1_3\", \"model_1_4\",\n",
    "               \"model_1_5\", \"model_1_6\", \"model_1_7\", \"model_1_8\", \"model_1_9\"]"
   ]
  },
  {
   "cell_type": "code",
   "execution_count": 89,
   "metadata": {},
   "outputs": [],
   "source": [
    "models = [model_2_1, model_2_2, model_2_3, model_2_4,\n",
    "          model_2_5, model_2_6, model_2_7, model_2_8]\n",
    "\n",
    "model_names = [\"model_2_1\", \"model_2_2\", \"model_2_3\", \"model_2_4\",\n",
    "               \"model_2_5\", \"model_2_6\", \"model_2_7\", \"model_2_8\"]"
   ]
  },
  {
   "cell_type": "code",
   "execution_count": 153,
   "metadata": {},
   "outputs": [],
   "source": [
    "models = [model_3_1, model_3_2, model_3_3, model_3_4,\n",
    "          model_3_5, model_3_6, model_3_7, model_3_8]\n",
    "\n",
    "model_names = [\"model_3_1\", \"model_3_2\", \"model_3_3\", \"model_3_4\",\n",
    "               \"model_3_5\", \"model_3_6\", \"model_3_7\", \"model_3_8\"]"
   ]
  },
  {
   "cell_type": "code",
   "execution_count": 154,
   "metadata": {
    "scrolled": true,
    "tags": []
   },
   "outputs": [
    {
     "name": "stdout",
     "output_type": "stream",
     "text": [
      "53/53 [==============================] - 0s 2ms/step - loss: 0.6681 - tp: 1182.0000 - fp: 463.0000 - tn: 4547.0000 - fn: 488.0000 - accuracy: 0.7162 - precision: 0.7185 - recall: 0.7078 - auc: 0.9168 - prc: 0.7659\n",
      "53/53 [==============================] - 0s 2ms/step - loss: 0.6872 - tp: 1145.0000 - fp: 479.0000 - tn: 4531.0000 - fn: 525.0000 - accuracy: 0.7012 - precision: 0.7050 - recall: 0.6856 - auc: 0.9110 - prc: 0.7352\n",
      "53/53 [==============================] - 0s 2ms/step - loss: 0.6524 - tp: 1182.0000 - fp: 460.0000 - tn: 4550.0000 - fn: 488.0000 - accuracy: 0.7132 - precision: 0.7199 - recall: 0.7078 - auc: 0.9194 - prc: 0.7673\n",
      "53/53 [==============================] - 0s 2ms/step - loss: 0.6539 - tp: 1186.0000 - fp: 461.0000 - tn: 4549.0000 - fn: 484.0000 - accuracy: 0.7174 - precision: 0.7201 - recall: 0.7102 - auc: 0.9190 - prc: 0.7628\n",
      "53/53 [==============================] - 0s 2ms/step - loss: 0.6678 - tp: 1175.0000 - fp: 465.0000 - tn: 4545.0000 - fn: 495.0000 - accuracy: 0.7126 - precision: 0.7165 - recall: 0.7036 - auc: 0.9143 - prc: 0.7440\n",
      "53/53 [==============================] - 0s 2ms/step - loss: 0.6603 - tp: 1195.0000 - fp: 463.0000 - tn: 4547.0000 - fn: 475.0000 - accuracy: 0.7204 - precision: 0.7207 - recall: 0.7156 - auc: 0.9198 - prc: 0.7713\n",
      "53/53 [==============================] - 0s 2ms/step - loss: 0.6895 - tp: 1144.0000 - fp: 479.0000 - tn: 4531.0000 - fn: 526.0000 - accuracy: 0.6988 - precision: 0.7049 - recall: 0.6850 - auc: 0.9118 - prc: 0.7555\n",
      "53/53 [==============================] - 0s 2ms/step - loss: 1.0824 - tp: 911.0000 - fp: 759.0000 - tn: 4251.0000 - fn: 759.0000 - accuracy: 0.5455 - precision: 0.5455 - recall: 0.5455 - auc: 0.7790 - prc: 0.4892\n"
     ]
    }
   ],
   "source": [
    "summary_dict = {}\n",
    "\n",
    "for i in range(len(models)):\n",
    "    models[i].fit(X_train, y_train, validation_data=(X_valid, y_valid), epochs=50, verbose=0)\n",
    "    loss, tp, fp, tn, fn, accuracy, precision, recall, auc, prc, *validations = models[i].evaluate(X_test, y_test)\n",
    "    summary_dict[model_names[i]] = [loss, tp, fp, tn, fn, accuracy, precision, recall, auc, prc, model_names[i]]\n",
    "    \n",
    "\n",
    "summary=pd.DataFrame(summary_dict).transpose();\n",
    "col_names={0:\"loss\", 1:\"tp\", 2:\"fp\", 3:\"tn\", 4:\"fn\", 5:\"accuracy\", 6:\"precision\", 7:\"recall\", 8:\"auc\", 9:\"prcurve\", 10:\"model\"}\n",
    "summary.rename(columns = col_names, inplace=True)"
   ]
  },
  {
   "cell_type": "code",
   "execution_count": 155,
   "metadata": {},
   "outputs": [],
   "source": [
    "summary['loss'] = summary['loss'].astype(float)\n",
    "summary['accuracy'] = summary['accuracy'].astype(float)\n",
    "summary['precision'] = summary['precision'].astype(float)\n",
    "summary['recall'] = summary['recall'].astype(float)\n",
    "summary['auc'] = summary['auc'].astype(float)\n",
    "summary['prcurve'] = summary['prcurve'].astype(float)\n",
    "\n",
    "summary['tp'] = summary['tp'].astype(int)\n",
    "summary['fp'] = summary['fp'].astype(int)\n",
    "summary['tn'] = summary['tn'].astype(int)\n",
    "summary['fn'] = summary['fn'].astype(int)"
   ]
  },
  {
   "cell_type": "code",
   "execution_count": 156,
   "metadata": {},
   "outputs": [
    {
     "name": "stdout",
     "output_type": "stream",
     "text": [
      "<class 'pandas.core.frame.DataFrame'>\n",
      "Index: 8 entries, model_3_1 to model_3_8\n",
      "Data columns (total 11 columns):\n",
      " #   Column     Non-Null Count  Dtype  \n",
      "---  ------     --------------  -----  \n",
      " 0   loss       8 non-null      float64\n",
      " 1   tp         8 non-null      int32  \n",
      " 2   fp         8 non-null      int32  \n",
      " 3   tn         8 non-null      int32  \n",
      " 4   fn         8 non-null      int32  \n",
      " 5   accuracy   8 non-null      float64\n",
      " 6   precision  8 non-null      float64\n",
      " 7   recall     8 non-null      float64\n",
      " 8   auc        8 non-null      float64\n",
      " 9   prcurve    8 non-null      float64\n",
      " 10  model      8 non-null      object \n",
      "dtypes: float64(6), int32(4), object(1)\n",
      "memory usage: 640.0+ bytes\n"
     ]
    }
   ],
   "source": [
    "summary.info()"
   ]
  },
  {
   "cell_type": "code",
   "execution_count": 54,
   "metadata": {},
   "outputs": [
    {
     "data": {
      "text/html": [
       "<div>\n",
       "<style scoped>\n",
       "    .dataframe tbody tr th:only-of-type {\n",
       "        vertical-align: middle;\n",
       "    }\n",
       "\n",
       "    .dataframe tbody tr th {\n",
       "        vertical-align: top;\n",
       "    }\n",
       "\n",
       "    .dataframe thead th {\n",
       "        text-align: right;\n",
       "    }\n",
       "</style>\n",
       "<table border=\"1\" class=\"dataframe\">\n",
       "  <thead>\n",
       "    <tr style=\"text-align: right;\">\n",
       "      <th></th>\n",
       "      <th>loss</th>\n",
       "      <th>tp</th>\n",
       "      <th>fp</th>\n",
       "      <th>tn</th>\n",
       "      <th>fn</th>\n",
       "      <th>accuracy</th>\n",
       "      <th>precision</th>\n",
       "      <th>recall</th>\n",
       "      <th>auc</th>\n",
       "      <th>prcurve</th>\n",
       "      <th>model</th>\n",
       "    </tr>\n",
       "  </thead>\n",
       "  <tbody>\n",
       "    <tr>\n",
       "      <th>model_1_0</th>\n",
       "      <td>0.682580</td>\n",
       "      <td>1122</td>\n",
       "      <td>445</td>\n",
       "      <td>4565</td>\n",
       "      <td>548</td>\n",
       "      <td>0.706587</td>\n",
       "      <td>0.716018</td>\n",
       "      <td>0.671856</td>\n",
       "      <td>0.914385</td>\n",
       "      <td>0.754586</td>\n",
       "      <td>model_1_0</td>\n",
       "    </tr>\n",
       "    <tr>\n",
       "      <th>model_1_1</th>\n",
       "      <td>0.669288</td>\n",
       "      <td>1137</td>\n",
       "      <td>454</td>\n",
       "      <td>4556</td>\n",
       "      <td>533</td>\n",
       "      <td>0.707784</td>\n",
       "      <td>0.714645</td>\n",
       "      <td>0.680838</td>\n",
       "      <td>0.916099</td>\n",
       "      <td>0.760474</td>\n",
       "      <td>model_1_1</td>\n",
       "    </tr>\n",
       "    <tr>\n",
       "      <th>model_1_2</th>\n",
       "      <td>0.656859</td>\n",
       "      <td>1178</td>\n",
       "      <td>446</td>\n",
       "      <td>4564</td>\n",
       "      <td>492</td>\n",
       "      <td>0.719760</td>\n",
       "      <td>0.725369</td>\n",
       "      <td>0.705389</td>\n",
       "      <td>0.919262</td>\n",
       "      <td>0.765585</td>\n",
       "      <td>model_1_2</td>\n",
       "    </tr>\n",
       "    <tr>\n",
       "      <th>model_1_3</th>\n",
       "      <td>0.661278</td>\n",
       "      <td>1163</td>\n",
       "      <td>468</td>\n",
       "      <td>4542</td>\n",
       "      <td>507</td>\n",
       "      <td>0.708383</td>\n",
       "      <td>0.713059</td>\n",
       "      <td>0.696407</td>\n",
       "      <td>0.917871</td>\n",
       "      <td>0.760583</td>\n",
       "      <td>model_1_3</td>\n",
       "    </tr>\n",
       "    <tr>\n",
       "      <th>model_1_4</th>\n",
       "      <td>0.673931</td>\n",
       "      <td>1147</td>\n",
       "      <td>452</td>\n",
       "      <td>4558</td>\n",
       "      <td>523</td>\n",
       "      <td>0.707186</td>\n",
       "      <td>0.717323</td>\n",
       "      <td>0.686826</td>\n",
       "      <td>0.915708</td>\n",
       "      <td>0.758471</td>\n",
       "      <td>model_1_4</td>\n",
       "    </tr>\n",
       "    <tr>\n",
       "      <th>model_1_5</th>\n",
       "      <td>0.659974</td>\n",
       "      <td>1166</td>\n",
       "      <td>447</td>\n",
       "      <td>4563</td>\n",
       "      <td>504</td>\n",
       "      <td>0.715569</td>\n",
       "      <td>0.722877</td>\n",
       "      <td>0.698204</td>\n",
       "      <td>0.917425</td>\n",
       "      <td>0.752353</td>\n",
       "      <td>model_1_5</td>\n",
       "    </tr>\n",
       "    <tr>\n",
       "      <th>model_1_6</th>\n",
       "      <td>0.670634</td>\n",
       "      <td>1173</td>\n",
       "      <td>467</td>\n",
       "      <td>4543</td>\n",
       "      <td>497</td>\n",
       "      <td>0.711976</td>\n",
       "      <td>0.715244</td>\n",
       "      <td>0.702395</td>\n",
       "      <td>0.916095</td>\n",
       "      <td>0.762240</td>\n",
       "      <td>model_1_6</td>\n",
       "    </tr>\n",
       "    <tr>\n",
       "      <th>model_1_7</th>\n",
       "      <td>0.654209</td>\n",
       "      <td>1194</td>\n",
       "      <td>455</td>\n",
       "      <td>4555</td>\n",
       "      <td>476</td>\n",
       "      <td>0.723952</td>\n",
       "      <td>0.724075</td>\n",
       "      <td>0.714970</td>\n",
       "      <td>0.918797</td>\n",
       "      <td>0.759469</td>\n",
       "      <td>model_1_7</td>\n",
       "    </tr>\n",
       "    <tr>\n",
       "      <th>model_1_8</th>\n",
       "      <td>0.659613</td>\n",
       "      <td>1180</td>\n",
       "      <td>458</td>\n",
       "      <td>4552</td>\n",
       "      <td>490</td>\n",
       "      <td>0.719162</td>\n",
       "      <td>0.720391</td>\n",
       "      <td>0.706587</td>\n",
       "      <td>0.916670</td>\n",
       "      <td>0.750926</td>\n",
       "      <td>model_1_8</td>\n",
       "    </tr>\n",
       "    <tr>\n",
       "      <th>model_1_9</th>\n",
       "      <td>0.697142</td>\n",
       "      <td>1149</td>\n",
       "      <td>495</td>\n",
       "      <td>4515</td>\n",
       "      <td>521</td>\n",
       "      <td>0.694611</td>\n",
       "      <td>0.698905</td>\n",
       "      <td>0.688024</td>\n",
       "      <td>0.912630</td>\n",
       "      <td>0.746884</td>\n",
       "      <td>model_1_9</td>\n",
       "    </tr>\n",
       "  </tbody>\n",
       "</table>\n",
       "</div>"
      ],
      "text/plain": [
       "               loss    tp   fp    tn   fn  accuracy  precision    recall  \\\n",
       "model_1_0  0.682580  1122  445  4565  548  0.706587   0.716018  0.671856   \n",
       "model_1_1  0.669288  1137  454  4556  533  0.707784   0.714645  0.680838   \n",
       "model_1_2  0.656859  1178  446  4564  492  0.719760   0.725369  0.705389   \n",
       "model_1_3  0.661278  1163  468  4542  507  0.708383   0.713059  0.696407   \n",
       "model_1_4  0.673931  1147  452  4558  523  0.707186   0.717323  0.686826   \n",
       "model_1_5  0.659974  1166  447  4563  504  0.715569   0.722877  0.698204   \n",
       "model_1_6  0.670634  1173  467  4543  497  0.711976   0.715244  0.702395   \n",
       "model_1_7  0.654209  1194  455  4555  476  0.723952   0.724075  0.714970   \n",
       "model_1_8  0.659613  1180  458  4552  490  0.719162   0.720391  0.706587   \n",
       "model_1_9  0.697142  1149  495  4515  521  0.694611   0.698905  0.688024   \n",
       "\n",
       "                auc   prcurve      model  \n",
       "model_1_0  0.914385  0.754586  model_1_0  \n",
       "model_1_1  0.916099  0.760474  model_1_1  \n",
       "model_1_2  0.919262  0.765585  model_1_2  \n",
       "model_1_3  0.917871  0.760583  model_1_3  \n",
       "model_1_4  0.915708  0.758471  model_1_4  \n",
       "model_1_5  0.917425  0.752353  model_1_5  \n",
       "model_1_6  0.916095  0.762240  model_1_6  \n",
       "model_1_7  0.918797  0.759469  model_1_7  \n",
       "model_1_8  0.916670  0.750926  model_1_8  \n",
       "model_1_9  0.912630  0.746884  model_1_9  "
      ]
     },
     "execution_count": 54,
     "metadata": {},
     "output_type": "execute_result"
    }
   ],
   "source": [
    "summary"
   ]
  },
  {
   "cell_type": "code",
   "execution_count": 87,
   "metadata": {},
   "outputs": [
    {
     "data": {
      "image/png": "[encoded data removed]",
      "text/plain": [
       "<Figure size 720x720 with 4 Axes>"
      ]
     },
     "metadata": {},
     "output_type": "display_data"
    }
   ],
   "source": [
    "sns.set_theme(style='ticks')\n",
    "\n",
    "fig, ((ax0, ax1), (ax2, ax3)) = plt.subplots(nrows=2, ncols=2, sharex=True,  figsize=(10,10))  # xticks(rotation=45),\n",
    "\n",
    "ax0.plot(summary['tn'], 'o-')\n",
    "ax0.set_title('True Negatives')\n",
    "ax1.plot(summary['fp'], 'o-')\n",
    "ax1.set_title('False Positives')\n",
    "ax2.plot(summary['fn'], 'o-')\n",
    "ax2.set_title('False Negatives')\n",
    "ax3.plot(summary['tp'], 'o-')\n",
    "ax3.set_title('True Positives')\n",
    "fig.suptitle('Investigating Learning Rate on Neural Network model')\n",
    "ax3.annotate('best model (#7)',\n",
    "            xy=(615, 330), xycoords='figure points',\n",
    "            xytext=(0, -125), textcoords='offset points',\n",
    "            arrowprops=dict(facecolor='black', shrink=0.05),\n",
    "            horizontalalignment='center', verticalalignment='bottom')\n",
    "ax2.tick_params(labelrotation=45)\n",
    "ax3.tick_params(labelrotation=45)\n",
    "plt.tight_layout()\n",
    "plt.savefig(\"./images/LR_h-paramater_tp-tn-fp-fn.png\")\n",
    "plt.show()"
   ]
  },
  {
   "cell_type": "code",
   "execution_count": 159,
   "metadata": {},
   "outputs": [
    {
     "data": {
      "image/png": "[encoded data removed]",
      "text/plain": [
       "<Figure size 720x720 with 4 Axes>"
      ]
     },
     "metadata": {},
     "output_type": "display_data"
    }
   ],
   "source": [
    "sns.set_theme(style='ticks')\n",
    "\n",
    "fig, ((ax0, ax1), (ax2, ax3)) = plt.subplots(nrows=2, ncols=2, sharex=True,  figsize=(10,10))  # xticks(rotation=45),\n",
    "\n",
    "ax0.plot(summary['tn'], 'o-')\n",
    "ax0.set_title('True Negatives')\n",
    "ax1.plot(summary['fp'], 'o-')\n",
    "ax1.set_title('False Positives')\n",
    "ax2.plot(summary['fn'], 'o-')\n",
    "ax2.set_title('False Negatives')\n",
    "ax3.plot(summary['tp'], 'o-')\n",
    "ax3.set_title('True Positives')\n",
    "fig.suptitle('Investigating hyperparameters on Neural Network model')\n",
    "ax3.annotate('best model (#5)',\n",
    "            xy=(600, 330), xycoords='figure points',\n",
    "            xytext=(0, -125), textcoords='offset points',\n",
    "            arrowprops=dict(facecolor='black', shrink=0.05),\n",
    "            horizontalalignment='center', verticalalignment='bottom')\n",
    "ax2.tick_params(labelrotation=45)\n",
    "ax3.tick_params(labelrotation=45)\n",
    "plt.tight_layout()\n",
    "plt.savefig(\"./images/NNx_h-paramater_tp-tn-fp-fn.png\")\n",
    "plt.show()"
   ]
  },
  {
   "cell_type": "code",
   "execution_count": null,
   "metadata": {},
   "outputs": [],
   "source": [
    "history_1_1 = model_1_1.fit(X_train, y_train, validation_data=(X_valid, y_valid), epochs=50, verbose=0)  # class_weight=?\n",
    "history_1_2 = model_1_2.fit(X_train, y_train, validation_data=(X_valid, y_valid), epochs=50, verbose=0)  # class_weight=?\n",
    "history_1_3 = model_1_3.fit(X_train, y_train, validation_data=(X_valid, y_valid), epochs=50, verbose=0)  # class_weight=?\n",
    "history_1_4 = model_1_4.fit(X_train, y_train, validation_data=(X_valid, y_valid), epochs=50, verbose=0)  # class_weight=?\n",
    "\n",
    "history_2_1 = model_2_1.fit(X_train, y_train, validation_data=(X_valid, y_valid), epochs=50, verbose=0)\n",
    "history_2_2 = model_2_2.fit(X_train, y_train, validation_data=(X_valid, y_valid), epochs=50, verbose=0)\n",
    "history_2_3 = model_2_3.fit(X_train, y_train, validation_data=(X_valid, y_valid), epochs=50, verbose=0)\n",
    "history_2_4 = model_2_4.fit(X_train, y_train, validation_data=(X_valid, y_valid), epochs=50, verbose=0)\n",
    "\n",
    "history_3_1 = model_3_1.fit(X_train, y_train, validation_data=(X_valid, y_valid), epochs=50, verbose=0)\n",
    "history_3_2 = model_3_2.fit(X_train, y_train, validation_data=(X_valid, y_valid), epochs=50, verbose=0)\n",
    "history_3_3 = model_3_3.fit(X_train, y_train, validation_data=(X_valid, y_valid), epochs=50, verbose=0)\n",
    "history_3_4 = model_3_4.fit(X_train, y_train, validation_data=(X_valid, y_valid), epochs=50, verbose=0)\n",
    "\n",
    "history_1_5 = model_1_5.fit(X_train, y_train, validation_data=(X_valid, y_valid), epochs=50, verbose=0)  # class_weight=?\n",
    "history_1_6 = model_1_6.fit(X_train, y_train, validation_data=(X_valid, y_valid), epochs=50, verbose=0)  # class_weight=?\n",
    "history_1_7 = model_1_7.fit(X_train, y_train, validation_data=(X_valid, y_valid), epochs=50, verbose=0)  # class_weight=?\n",
    "history_1_8 = model_1_8.fit(X_train, y_train, validation_data=(X_valid, y_valid), epochs=50, verbose=0)  # class_weight=?\n",
    "\n",
    "history_2_5 = model_2_5.fit(X_train, y_train, validation_data=(X_valid, y_valid), epochs=50, verbose=0)\n",
    "history_2_6 = model_2_6.fit(X_train, y_train, validation_data=(X_valid, y_valid), epochs=50, verbose=0)\n",
    "history_2_7 = model_2_7.fit(X_train, y_train, validation_data=(X_valid, y_valid), epochs=50, verbose=0)\n",
    "history_2_8 = model_2_8.fit(X_train, y_train, validation_data=(X_valid, y_valid), epochs=50, verbose=0)\n",
    "\n",
    "history_3_5 = model_3_5.fit(X_train, y_train, validation_data=(X_valid, y_valid), epochs=50, verbose=0)\n",
    "history_3_6 = model_3_6.fit(X_train, y_train, validation_data=(X_valid, y_valid), epochs=50, verbose=0)\n",
    "history_3_7 = model_3_7.fit(X_train, y_train, validation_data=(X_valid, y_valid), epochs=50, verbose=0)\n",
    "history_3_8 = model_3_8.fit(X_train, y_train, validation_data=(X_valid, y_valid), epochs=50, verbose=0)"
   ]
  },
  {
   "cell_type": "code",
   "execution_count": 170,
   "metadata": {},
   "outputs": [
    {
     "name": "stdout",
     "output_type": "stream",
     "text": [
      "63/63 [==============================] - 0s 2ms/step - loss: 0.6720 - tp: 1386.0000 - fp: 504.0000 - tn: 5508.0000 - fn: 618.0000 - accuracy: 0.7206 - precision: 0.7333 - recall: 0.6916 - auc: 0.9192 - prc: 0.7645\n",
      "63/63 [==============================] - 0s 2ms/step - loss: 0.6505 - tp: 1416.0000 - fp: 555.0000 - tn: 5457.0000 - fn: 588.0000 - accuracy: 0.7171 - precision: 0.7184 - recall: 0.7066 - auc: 0.9202 - prc: 0.7764\n",
      "63/63 [==============================] - 0s 2ms/step - loss: 0.6203 - tp: 1423.0000 - fp: 541.0000 - tn: 5471.0000 - fn: 581.0000 - accuracy: 0.7226 - precision: 0.7245 - recall: 0.7101 - auc: 0.9267 - prc: 0.7912\n",
      "63/63 [==============================] - 0s 2ms/step - loss: 0.6376 - tp: 1414.0000 - fp: 559.0000 - tn: 5453.0000 - fn: 590.0000 - accuracy: 0.7131 - precision: 0.7167 - recall: 0.7056 - auc: 0.9225 - prc: 0.7839\n",
      "63/63 [==============================] - 0s 2ms/step - loss: 0.6523 - tp: 1408.0000 - fp: 572.0000 - tn: 5440.0000 - fn: 596.0000 - accuracy: 0.7091 - precision: 0.7111 - recall: 0.7026 - auc: 0.9202 - prc: 0.7811\n",
      "63/63 [==============================] - 0s 2ms/step - loss: 0.6233 - tp: 1430.0000 - fp: 535.0000 - tn: 5477.0000 - fn: 574.0000 - accuracy: 0.7236 - precision: 0.7277 - recall: 0.7136 - auc: 0.9263 - prc: 0.7924\n",
      "63/63 [==============================] - 0s 2ms/step - loss: 0.6316 - tp: 1434.0000 - fp: 545.0000 - tn: 5467.0000 - fn: 570.0000 - accuracy: 0.7216 - precision: 0.7246 - recall: 0.7156 - auc: 0.9238 - prc: 0.7818\n",
      "63/63 [==============================] - 0s 2ms/step - loss: 0.6267 - tp: 1436.0000 - fp: 542.0000 - tn: 5470.0000 - fn: 568.0000 - accuracy: 0.7236 - precision: 0.7260 - recall: 0.7166 - auc: 0.9249 - prc: 0.7889\n",
      "63/63 [==============================] - 0s 2ms/step - loss: 0.6368 - tp: 1436.0000 - fp: 549.0000 - tn: 5463.0000 - fn: 568.0000 - accuracy: 0.7226 - precision: 0.7234 - recall: 0.7166 - auc: 0.9231 - prc: 0.7815\n",
      "63/63 [==============================] - 0s 3ms/step - loss: 0.6121 - tp: 1448.0000 - fp: 538.0000 - tn: 5474.0000 - fn: 556.0000 - accuracy: 0.7265 - precision: 0.7291 - recall: 0.7226 - auc: 0.9283 - prc: 0.7980\n"
     ]
    }
   ],
   "source": [
    "# best\n",
    "#model_1_1 = build_model(n_hidden=1, n_neurons=64, learning_rate=5e-4, input_shape=None)\n",
    "#model_1_1 = build_model(n_hidden=4, n_neurons=64, learning_rate=1e-3, input_shape=None)\n",
    "# {'learning_rate': 0.0006713362563809696, 'n_hidden': 4, 'n_neurons': 56}\n",
    "\n",
    "# #============\n",
    "# summary_dict = {}\n",
    "\n",
    "# for i in range(len(models)):\n",
    "#     models[i].fit(X_train, y_train, validation_data=(X_test, y_test), epochs=50, verbose=0)\n",
    "#     loss, tp, fp, tn, fn, accuracy, precision, recall, auc, prc, *validations = models[i].evaluate(X_test, y_test)\n",
    "#     summary_dict[model_names[i]] = [loss, tp, fp, tn, fn, accuracy, precision, recall, auc, prc, model_names[i]]\n",
    "    \n",
    "\n",
    "# summary=pd.DataFrame(summary_dict).transpose();\n",
    "# col_names={0:\"loss\", 1:\"tp\", 2:\"fp\", 3:\"tn\", 4:\"fn\", 5:\"accuracy\", 6:\"precision\", 7:\"recall\", 8:\"auc\", 9:\"prcurve\", 10:\"model\"}\n",
    "# summary.rename(columns = col_names, inplace=True)\n",
    "#============\n",
    "\n",
    "ten_times = {}\n",
    "\n",
    "#model = build_model(n_hidden=4, n_neurons=56, learning_rate=7e-4, input_shape=None) # model_3_1\n",
    "#model = build_model(n_hidden=2, n_neurons=16, learning_rate=8e-4, input_shape=None) # model_2_2\n",
    "#model = build_model(n_hidden=2, n_neurons=40, learning_rate=2e-4, input_shape=None)  # ** 3_5\n",
    "model = build_model(n_hidden=2, n_neurons=40, learning_rate=2e-2, input_shape=None)  # ** _3_5\n",
    "for i in range(10):    \n",
    "    model.fit(X_train, y_train, validation_data=(X_valid, y_valid), epochs=20, verbose=0)\n",
    "    loss, tp, fp, tn, fn, accuracy, precision, recall, auc, prc, *validations = model.evaluate(X_train, y_train)\n",
    "    ten_times[i] = [loss, tp, fp, tn, fn, accuracy, precision, recall, auc, prc]\n",
    "    "
   ]
  },
  {
   "cell_type": "code",
   "execution_count": 161,
   "metadata": {},
   "outputs": [],
   "source": [
    "ten_runs = pd.DataFrame(ten_times).transpose()\n",
    "ten_runs.rename(columns=col_names, inplace=True)"
   ]
  },
  {
   "cell_type": "code",
   "execution_count": 162,
   "metadata": {},
   "outputs": [
    {
     "data": {
      "text/html": [
       "<div>\n",
       "<style scoped>\n",
       "    .dataframe tbody tr th:only-of-type {\n",
       "        vertical-align: middle;\n",
       "    }\n",
       "\n",
       "    .dataframe tbody tr th {\n",
       "        vertical-align: top;\n",
       "    }\n",
       "\n",
       "    .dataframe thead th {\n",
       "        text-align: right;\n",
       "    }\n",
       "</style>\n",
       "<table border=\"1\" class=\"dataframe\">\n",
       "  <thead>\n",
       "    <tr style=\"text-align: right;\">\n",
       "      <th></th>\n",
       "      <th>loss</th>\n",
       "      <th>tp</th>\n",
       "      <th>fp</th>\n",
       "      <th>tn</th>\n",
       "      <th>fn</th>\n",
       "      <th>accuracy</th>\n",
       "      <th>precision</th>\n",
       "      <th>recall</th>\n",
       "      <th>auc</th>\n",
       "      <th>prcurve</th>\n",
       "    </tr>\n",
       "  </thead>\n",
       "  <tbody>\n",
       "    <tr>\n",
       "      <th>0</th>\n",
       "      <td>0.625513</td>\n",
       "      <td>1451.0</td>\n",
       "      <td>546.0</td>\n",
       "      <td>5466.0</td>\n",
       "      <td>553.0</td>\n",
       "      <td>0.726048</td>\n",
       "      <td>0.726590</td>\n",
       "      <td>0.724052</td>\n",
       "      <td>0.926076</td>\n",
       "      <td>0.791350</td>\n",
       "    </tr>\n",
       "    <tr>\n",
       "      <th>1</th>\n",
       "      <td>0.615329</td>\n",
       "      <td>1428.0</td>\n",
       "      <td>543.0</td>\n",
       "      <td>5469.0</td>\n",
       "      <td>576.0</td>\n",
       "      <td>0.721058</td>\n",
       "      <td>0.724505</td>\n",
       "      <td>0.712575</td>\n",
       "      <td>0.927144</td>\n",
       "      <td>0.794843</td>\n",
       "    </tr>\n",
       "    <tr>\n",
       "      <th>2</th>\n",
       "      <td>0.607414</td>\n",
       "      <td>1459.0</td>\n",
       "      <td>523.0</td>\n",
       "      <td>5489.0</td>\n",
       "      <td>545.0</td>\n",
       "      <td>0.734032</td>\n",
       "      <td>0.736125</td>\n",
       "      <td>0.728044</td>\n",
       "      <td>0.929246</td>\n",
       "      <td>0.798444</td>\n",
       "    </tr>\n",
       "    <tr>\n",
       "      <th>3</th>\n",
       "      <td>0.610035</td>\n",
       "      <td>1457.0</td>\n",
       "      <td>524.0</td>\n",
       "      <td>5488.0</td>\n",
       "      <td>547.0</td>\n",
       "      <td>0.732535</td>\n",
       "      <td>0.735487</td>\n",
       "      <td>0.727046</td>\n",
       "      <td>0.928681</td>\n",
       "      <td>0.796012</td>\n",
       "    </tr>\n",
       "    <tr>\n",
       "      <th>4</th>\n",
       "      <td>0.604066</td>\n",
       "      <td>1448.0</td>\n",
       "      <td>527.0</td>\n",
       "      <td>5485.0</td>\n",
       "      <td>556.0</td>\n",
       "      <td>0.730539</td>\n",
       "      <td>0.733165</td>\n",
       "      <td>0.722555</td>\n",
       "      <td>0.930315</td>\n",
       "      <td>0.800897</td>\n",
       "    </tr>\n",
       "    <tr>\n",
       "      <th>5</th>\n",
       "      <td>0.597573</td>\n",
       "      <td>1459.0</td>\n",
       "      <td>523.0</td>\n",
       "      <td>5489.0</td>\n",
       "      <td>545.0</td>\n",
       "      <td>0.732535</td>\n",
       "      <td>0.736125</td>\n",
       "      <td>0.728044</td>\n",
       "      <td>0.931089</td>\n",
       "      <td>0.801863</td>\n",
       "    </tr>\n",
       "    <tr>\n",
       "      <th>6</th>\n",
       "      <td>0.610115</td>\n",
       "      <td>1457.0</td>\n",
       "      <td>523.0</td>\n",
       "      <td>5489.0</td>\n",
       "      <td>547.0</td>\n",
       "      <td>0.732036</td>\n",
       "      <td>0.735859</td>\n",
       "      <td>0.727046</td>\n",
       "      <td>0.928413</td>\n",
       "      <td>0.794782</td>\n",
       "    </tr>\n",
       "    <tr>\n",
       "      <th>7</th>\n",
       "      <td>0.598350</td>\n",
       "      <td>1462.0</td>\n",
       "      <td>524.0</td>\n",
       "      <td>5488.0</td>\n",
       "      <td>542.0</td>\n",
       "      <td>0.732535</td>\n",
       "      <td>0.736153</td>\n",
       "      <td>0.729541</td>\n",
       "      <td>0.931061</td>\n",
       "      <td>0.804232</td>\n",
       "    </tr>\n",
       "    <tr>\n",
       "      <th>8</th>\n",
       "      <td>0.622409</td>\n",
       "      <td>1432.0</td>\n",
       "      <td>545.0</td>\n",
       "      <td>5467.0</td>\n",
       "      <td>572.0</td>\n",
       "      <td>0.722555</td>\n",
       "      <td>0.724330</td>\n",
       "      <td>0.714571</td>\n",
       "      <td>0.925454</td>\n",
       "      <td>0.788334</td>\n",
       "    </tr>\n",
       "    <tr>\n",
       "      <th>9</th>\n",
       "      <td>0.601369</td>\n",
       "      <td>1448.0</td>\n",
       "      <td>525.0</td>\n",
       "      <td>5487.0</td>\n",
       "      <td>556.0</td>\n",
       "      <td>0.729541</td>\n",
       "      <td>0.733908</td>\n",
       "      <td>0.722555</td>\n",
       "      <td>0.930448</td>\n",
       "      <td>0.802838</td>\n",
       "    </tr>\n",
       "  </tbody>\n",
       "</table>\n",
       "</div>"
      ],
      "text/plain": [
       "       loss      tp     fp      tn     fn  accuracy  precision    recall  \\\n",
       "0  0.625513  1451.0  546.0  5466.0  553.0  0.726048   0.726590  0.724052   \n",
       "1  0.615329  1428.0  543.0  5469.0  576.0  0.721058   0.724505  0.712575   \n",
       "2  0.607414  1459.0  523.0  5489.0  545.0  0.734032   0.736125  0.728044   \n",
       "3  0.610035  1457.0  524.0  5488.0  547.0  0.732535   0.735487  0.727046   \n",
       "4  0.604066  1448.0  527.0  5485.0  556.0  0.730539   0.733165  0.722555   \n",
       "5  0.597573  1459.0  523.0  5489.0  545.0  0.732535   0.736125  0.728044   \n",
       "6  0.610115  1457.0  523.0  5489.0  547.0  0.732036   0.735859  0.727046   \n",
       "7  0.598350  1462.0  524.0  5488.0  542.0  0.732535   0.736153  0.729541   \n",
       "8  0.622409  1432.0  545.0  5467.0  572.0  0.722555   0.724330  0.714571   \n",
       "9  0.601369  1448.0  525.0  5487.0  556.0  0.729541   0.733908  0.722555   \n",
       "\n",
       "        auc   prcurve  \n",
       "0  0.926076  0.791350  \n",
       "1  0.927144  0.794843  \n",
       "2  0.929246  0.798444  \n",
       "3  0.928681  0.796012  \n",
       "4  0.930315  0.800897  \n",
       "5  0.931089  0.801863  \n",
       "6  0.928413  0.794782  \n",
       "7  0.931061  0.804232  \n",
       "8  0.925454  0.788334  \n",
       "9  0.930448  0.802838  "
      ]
     },
     "execution_count": 162,
     "metadata": {},
     "output_type": "execute_result"
    }
   ],
   "source": [
    "ten_runs"
   ]
  },
  {
   "cell_type": "code",
   "execution_count": 163,
   "metadata": {},
   "outputs": [
    {
     "data": {
      "text/html": [
       "<div>\n",
       "<style scoped>\n",
       "    .dataframe tbody tr th:only-of-type {\n",
       "        vertical-align: middle;\n",
       "    }\n",
       "\n",
       "    .dataframe tbody tr th {\n",
       "        vertical-align: top;\n",
       "    }\n",
       "\n",
       "    .dataframe thead th {\n",
       "        text-align: right;\n",
       "    }\n",
       "</style>\n",
       "<table border=\"1\" class=\"dataframe\">\n",
       "  <thead>\n",
       "    <tr style=\"text-align: right;\">\n",
       "      <th></th>\n",
       "      <th>loss</th>\n",
       "      <th>tp</th>\n",
       "      <th>fp</th>\n",
       "      <th>tn</th>\n",
       "      <th>fn</th>\n",
       "      <th>accuracy</th>\n",
       "      <th>precision</th>\n",
       "      <th>recall</th>\n",
       "      <th>auc</th>\n",
       "      <th>prcurve</th>\n",
       "    </tr>\n",
       "  </thead>\n",
       "  <tbody>\n",
       "    <tr>\n",
       "      <th>count</th>\n",
       "      <td>10.000000</td>\n",
       "      <td>10.000000</td>\n",
       "      <td>10.00000</td>\n",
       "      <td>10.00000</td>\n",
       "      <td>10.000000</td>\n",
       "      <td>10.000000</td>\n",
       "      <td>10.000000</td>\n",
       "      <td>10.000000</td>\n",
       "      <td>10.000000</td>\n",
       "      <td>10.000000</td>\n",
       "    </tr>\n",
       "    <tr>\n",
       "      <th>mean</th>\n",
       "      <td>0.609217</td>\n",
       "      <td>1450.100000</td>\n",
       "      <td>530.30000</td>\n",
       "      <td>5481.70000</td>\n",
       "      <td>553.900000</td>\n",
       "      <td>0.729341</td>\n",
       "      <td>0.732225</td>\n",
       "      <td>0.723603</td>\n",
       "      <td>0.928793</td>\n",
       "      <td>0.797360</td>\n",
       "    </tr>\n",
       "    <tr>\n",
       "      <th>std</th>\n",
       "      <td>0.009565</td>\n",
       "      <td>11.647126</td>\n",
       "      <td>10.01166</td>\n",
       "      <td>10.01166</td>\n",
       "      <td>11.647126</td>\n",
       "      <td>0.004556</td>\n",
       "      <td>0.005023</td>\n",
       "      <td>0.005812</td>\n",
       "      <td>0.002030</td>\n",
       "      <td>0.005202</td>\n",
       "    </tr>\n",
       "    <tr>\n",
       "      <th>min</th>\n",
       "      <td>0.597573</td>\n",
       "      <td>1428.000000</td>\n",
       "      <td>523.00000</td>\n",
       "      <td>5466.00000</td>\n",
       "      <td>542.000000</td>\n",
       "      <td>0.721058</td>\n",
       "      <td>0.724330</td>\n",
       "      <td>0.712575</td>\n",
       "      <td>0.925454</td>\n",
       "      <td>0.788334</td>\n",
       "    </tr>\n",
       "    <tr>\n",
       "      <th>25%</th>\n",
       "      <td>0.602044</td>\n",
       "      <td>1448.000000</td>\n",
       "      <td>523.25000</td>\n",
       "      <td>5473.00000</td>\n",
       "      <td>545.500000</td>\n",
       "      <td>0.726921</td>\n",
       "      <td>0.728234</td>\n",
       "      <td>0.722555</td>\n",
       "      <td>0.927461</td>\n",
       "      <td>0.794798</td>\n",
       "    </tr>\n",
       "    <tr>\n",
       "      <th>50%</th>\n",
       "      <td>0.608724</td>\n",
       "      <td>1454.000000</td>\n",
       "      <td>524.50000</td>\n",
       "      <td>5487.50000</td>\n",
       "      <td>550.000000</td>\n",
       "      <td>0.731287</td>\n",
       "      <td>0.734697</td>\n",
       "      <td>0.725549</td>\n",
       "      <td>0.928963</td>\n",
       "      <td>0.797228</td>\n",
       "    </tr>\n",
       "    <tr>\n",
       "      <th>75%</th>\n",
       "      <td>0.614026</td>\n",
       "      <td>1458.500000</td>\n",
       "      <td>539.00000</td>\n",
       "      <td>5488.75000</td>\n",
       "      <td>556.000000</td>\n",
       "      <td>0.732535</td>\n",
       "      <td>0.736058</td>\n",
       "      <td>0.727794</td>\n",
       "      <td>0.930415</td>\n",
       "      <td>0.801622</td>\n",
       "    </tr>\n",
       "    <tr>\n",
       "      <th>max</th>\n",
       "      <td>0.625513</td>\n",
       "      <td>1462.000000</td>\n",
       "      <td>546.00000</td>\n",
       "      <td>5489.00000</td>\n",
       "      <td>576.000000</td>\n",
       "      <td>0.734032</td>\n",
       "      <td>0.736153</td>\n",
       "      <td>0.729541</td>\n",
       "      <td>0.931089</td>\n",
       "      <td>0.804232</td>\n",
       "    </tr>\n",
       "  </tbody>\n",
       "</table>\n",
       "</div>"
      ],
      "text/plain": [
       "            loss           tp         fp          tn          fn   accuracy  \\\n",
       "count  10.000000    10.000000   10.00000    10.00000   10.000000  10.000000   \n",
       "mean    0.609217  1450.100000  530.30000  5481.70000  553.900000   0.729341   \n",
       "std     0.009565    11.647126   10.01166    10.01166   11.647126   0.004556   \n",
       "min     0.597573  1428.000000  523.00000  5466.00000  542.000000   0.721058   \n",
       "25%     0.602044  1448.000000  523.25000  5473.00000  545.500000   0.726921   \n",
       "50%     0.608724  1454.000000  524.50000  5487.50000  550.000000   0.731287   \n",
       "75%     0.614026  1458.500000  539.00000  5488.75000  556.000000   0.732535   \n",
       "max     0.625513  1462.000000  546.00000  5489.00000  576.000000   0.734032   \n",
       "\n",
       "       precision     recall        auc    prcurve  \n",
       "count  10.000000  10.000000  10.000000  10.000000  \n",
       "mean    0.732225   0.723603   0.928793   0.797360  \n",
       "std     0.005023   0.005812   0.002030   0.005202  \n",
       "min     0.724330   0.712575   0.925454   0.788334  \n",
       "25%     0.728234   0.722555   0.927461   0.794798  \n",
       "50%     0.734697   0.725549   0.928963   0.797228  \n",
       "75%     0.736058   0.727794   0.930415   0.801622  \n",
       "max     0.736153   0.729541   0.931089   0.804232  "
      ]
     },
     "execution_count": 163,
     "metadata": {},
     "output_type": "execute_result"
    }
   ],
   "source": [
    "ten_runs.describe()"
   ]
  },
  {
   "cell_type": "code",
   "execution_count": 164,
   "metadata": {},
   "outputs": [],
   "source": [
    "#print(model.predict(X_test))\n",
    "y_predict = np.argmax(model.predict(X_test), axis=1)+1"
   ]
  },
  {
   "cell_type": "code",
   "execution_count": 165,
   "metadata": {},
   "outputs": [],
   "source": [
    "y_test_array = np.argmax(np.array(y_test), axis=1)+1"
   ]
  },
  {
   "cell_type": "code",
   "execution_count": 166,
   "metadata": {},
   "outputs": [
    {
     "data": {
      "text/plain": [
       "array([3, 3, 2, ..., 1, 2, 2], dtype=int64)"
      ]
     },
     "execution_count": 166,
     "metadata": {},
     "output_type": "execute_result"
    }
   ],
   "source": [
    "y_test_array"
   ]
  },
  {
   "cell_type": "code",
   "execution_count": 167,
   "metadata": {},
   "outputs": [
    {
     "name": "stdout",
     "output_type": "stream",
     "text": [
      "[[ 30  46   0   0]\n",
      " [  3 345 138   1]\n",
      " [  0 116 728  67]\n",
      " [  0   2 101  93]]\n"
     ]
    }
   ],
   "source": [
    "from sklearn.metrics import confusion_matrix\n",
    "print(confusion_matrix(y_test_array, y_predict))"
   ]
  },
  {
   "cell_type": "code",
   "execution_count": 168,
   "metadata": {},
   "outputs": [
    {
     "data": {
      "image/png": "[encoded data removed]",
      "text/plain": [
       "<Figure size 432x360 with 2 Axes>"
      ]
     },
     "metadata": {},
     "output_type": "display_data"
    }
   ],
   "source": [
    "import seaborn as sns\n",
    "def confusion_plot(y, y_pred):\n",
    "    matrix = confusion_matrix(y, y_pred)\n",
    "    #print(matrix)\n",
    "    row_names = ['1', '2', '3', '4']\n",
    "    col_names = ['1', '2', '3', '4']\n",
    "    df_confusion = pd.DataFrame(matrix, index=row_names, columns=col_names)\n",
    "    #print(df_confusion)\n",
    "    plt.figure(figsize = (6,5))\n",
    "    sns.heatmap(df_confusion, annot=True,  cmap=\"Blues\", fmt=\".0f\", annot_kws={\"size\": 16})    \n",
    "    sns.set(font_scale=1.4)#for label size  \n",
    "    plt.ylim([0,4])\n",
    "    plt.gca().invert_yaxis()\n",
    "    plt.title(\"Confusion Matrix\")\n",
    "    plt.ylabel(\"True Class\")\n",
    "    plt.xlabel(\"Predicted Class\")\n",
    "    plt.savefig('./images/confusion_matrix.png')\n",
    "    plt.show()\n",
    "    plt.close()\n",
    "    \n",
    "confusion_plot(y_test_array, y_predict)"
   ]
  },
  {
   "cell_type": "code",
   "execution_count": 169,
   "metadata": {},
   "outputs": [
    {
     "name": "stdout",
     "output_type": "stream",
     "text": [
      "Confusion Matrix\n",
      "\n",
      "[[ 30  46   0   0]\n",
      " [  3 345 138   1]\n",
      " [  0 116 728  67]\n",
      " [  0   2 101  93]]\n",
      "\n",
      "Accuracy: 0.72\n",
      "\n",
      "Micro Precision: 0.72\n",
      "Micro Recall: 0.72\n",
      "Micro F1-score: 0.72\n",
      "\n",
      "Macro Precision: 0.73\n",
      "Macro Recall: 0.59\n",
      "Macro F1-score: 0.63\n",
      "\n",
      "Weighted Precision: 0.72\n",
      "Weighted Recall: 0.72\n",
      "Weighted F1-score: 0.71\n",
      "\n",
      "Classification Report\n",
      "\n",
      "              precision    recall  f1-score   support\n",
      "\n",
      "     Class 1       0.91      0.39      0.55        76\n",
      "     Class 2       0.68      0.71      0.69       487\n",
      "     Class 3       0.75      0.80      0.78       911\n",
      "     Class 4       0.58      0.47      0.52       196\n",
      "\n",
      "    accuracy                           0.72      1670\n",
      "   macro avg       0.73      0.59      0.63      1670\n",
      "weighted avg       0.72      0.72      0.71      1670\n",
      "\n"
     ]
    }
   ],
   "source": [
    "confusion = confusion_matrix(y_test_array, y_predict)\n",
    "print('Confusion Matrix\\n')\n",
    "print(confusion)\n",
    "\n",
    "#importing accuracy_score, precision_score, recall_score, f1_score\n",
    "from sklearn.metrics import accuracy_score, precision_score, recall_score, f1_score\n",
    "print('\\nAccuracy: {:.2f}\\n'.format(accuracy_score(y_test_array, y_predict)))\n",
    "\n",
    "print('Micro Precision: {:.2f}'.format(precision_score(y_test_array, y_predict, average='micro')))\n",
    "print('Micro Recall: {:.2f}'.format(recall_score(y_test_array, y_predict, average='micro')))\n",
    "print('Micro F1-score: {:.2f}\\n'.format(f1_score(y_test_array, y_predict, average='micro')))\n",
    "\n",
    "print('Macro Precision: {:.2f}'.format(precision_score(y_test_array, y_predict, average='macro')))\n",
    "print('Macro Recall: {:.2f}'.format(recall_score(y_test_array, y_predict, average='macro')))\n",
    "print('Macro F1-score: {:.2f}\\n'.format(f1_score(y_test_array, y_predict, average='macro')))\n",
    "\n",
    "print('Weighted Precision: {:.2f}'.format(precision_score(y_test_array, y_predict, average='weighted')))\n",
    "print('Weighted Recall: {:.2f}'.format(recall_score(y_test_array, y_predict, average='weighted')))\n",
    "print('Weighted F1-score: {:.2f}'.format(f1_score(y_test_array, y_predict, average='weighted')))\n",
    "\n",
    "from sklearn.metrics import classification_report\n",
    "print('\\nClassification Report\\n')\n",
    "print(classification_report(y_test_array, y_predict, target_names=['Class 1', 'Class 2', 'Class 3', 'Class 4']))"
   ]
  },
  {
   "cell_type": "code",
   "execution_count": null,
   "metadata": {},
   "outputs": [],
   "source": [
    "# # Plot history\n",
    "# # set metrics=['accuracy']\n",
    "# pd.DataFrame(history.history).plot(figsize=(8, 5))\n",
    "\n",
    "# plt.grid(True)\n",
    "# plt.gca().set_ylim(0, 1)\n",
    "# plt.gca().set_xlim(0, len(history.epoch))\n",
    "# plt.legend()\n",
    "# plt.show()\n",
    "\n",
    "# save_model(model, \"best_params.h5\")\n",
    "# #old_model = load_model(\"testing.h5\")\n",
    "# #print(old_model.summary())"
   ]
  },
  {
   "cell_type": "code",
   "execution_count": null,
   "metadata": {},
   "outputs": [],
   "source": []
  },
  {
   "cell_type": "code",
   "execution_count": null,
   "metadata": {},
   "outputs": [],
   "source": [
    "df_1_1 = pd.DataFrame(history_1_1.history)\n",
    "df_1_2 = pd.DataFrame(history_1_2.history)\n",
    "df_1_3 = pd.DataFrame(history_1_3.history)\n",
    "df_1_4 = pd.DataFrame(history_1_4.history)\n",
    "df_2_1 = pd.DataFrame(history_2_1.history)\n",
    "df_2_2 = pd.DataFrame(history_2_2.history)\n",
    "df_2_3 = pd.DataFrame(history_2_3.history)\n",
    "df_2_4 = pd.DataFrame(history_2_4.history)\n",
    "df_3_1 = pd.DataFrame(history_3_1.history)\n",
    "df_3_2 = pd.DataFrame(history_3_2.history)\n",
    "df_3_3 = pd.DataFrame(history_3_3.history)\n",
    "df_3_4 = pd.DataFrame(history_3_4.history)\n",
    "\n",
    "df_1_5 = pd.DataFrame(history_1_5.history)\n",
    "df_1_6 = pd.DataFrame(history_1_6.history)\n",
    "df_1_7 = pd.DataFrame(history_1_7.history)\n",
    "df_1_8 = pd.DataFrame(history_1_8.history)\n",
    "df_2_5 = pd.DataFrame(history_2_5.history)\n",
    "df_2_6 = pd.DataFrame(history_2_6.history)\n",
    "df_2_7 = pd.DataFrame(history_2_7.history)\n",
    "df_2_8 = pd.DataFrame(history_2_8.history)\n",
    "df_3_5 = pd.DataFrame(history_3_5.history)\n",
    "df_3_6 = pd.DataFrame(history_3_6.history)\n",
    "df_3_7 = pd.DataFrame(history_3_7.history)\n",
    "df_3_8 = pd.DataFrame(history_3_8.history)\n",
    "\n",
    "df_1_1['model'] = 11\n",
    "df_1_2['model'] = 12\n",
    "df_1_3['model'] = 13\n",
    "df_1_4['model'] = 14\n",
    "df_2_1['model'] = 21\n",
    "df_2_2['model'] = 22\n",
    "df_2_3['model'] = 23\n",
    "df_2_4['model'] = 24\n",
    "df_3_1['model'] = 31\n",
    "df_3_2['model'] = 32\n",
    "df_3_3['model'] = 33\n",
    "df_3_4['model'] = 34\n",
    "\n",
    "df_1_5['model'] = 15\n",
    "df_1_6['model'] = 16\n",
    "df_1_7['model'] = 17\n",
    "df_1_8['model'] = 18\n",
    "df_2_5['model'] = 25\n",
    "df_2_6['model'] = 26\n",
    "df_2_7['model'] = 27\n",
    "df_2_8['model'] = 28\n",
    "df_3_5['model'] = 35\n",
    "df_3_6['model'] = 36\n",
    "df_3_7['model'] = 37\n",
    "df_3_8['model'] = 38\n",
    "\n",
    "df_models = pd.concat([df_1_1, df_1_2, df_1_3, df_1_4, df_1_5, df_1_6, df_1_7, df_1_8,\n",
    "                       df_2_1, df_2_2, df_2_3, df_2_4, df_2_5, df_2_6, df_2_7, df_2_8,\n",
    "                       df_3_1, df_3_2, df_3_3, df_3_4, df_3_5, df_3_6, df_3_7, df_3_8,\n",
    "                      ])"
   ]
  },
  {
   "cell_type": "code",
   "execution_count": null,
   "metadata": {},
   "outputs": [],
   "source": [
    "df_models['accuracy'].max()"
   ]
  },
  {
   "cell_type": "code",
   "execution_count": null,
   "metadata": {},
   "outputs": [],
   "source": [
    "df_1_1['accuracy'].plot(figsize=(8, 5))\n",
    "df_1_2['accuracy'].plot()\n",
    "df_1_3['accuracy'].plot()\n",
    "df_1_4['accuracy'].plot()\n",
    "\n",
    "plt.grid(True)\n",
    "plt.gca().set_ylim(0, 1)\n",
    "plt.gca().set_xlim(0, len(history_1_1.epoch))\n",
    "plt.legend()\n",
    "plt.show()"
   ]
  },
  {
   "cell_type": "code",
   "execution_count": null,
   "metadata": {},
   "outputs": [],
   "source": []
  }
 ],
 "metadata": {
  "kernelspec": {
   "display_name": "Python 3",
   "language": "python",
   "name": "python3"
  },
  "language_info": {
   "codemirror_mode": {
    "name": "ipython",
    "version": 3
   },
   "file_extension": ".py",
   "mimetype": "text/x-python",
   "name": "python",
   "nbconvert_exporter": "python",
   "pygments_lexer": "ipython3",
   "version": "3.8.8"
  }
 },
 "nbformat": 4,
 "nbformat_minor": 4
}
